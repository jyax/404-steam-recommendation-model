{
 "cells": [
  {
   "cell_type": "code",
   "execution_count": 40,
   "id": "35384b59-a247-4ae0-b231-382f9f85b3d3",
   "metadata": {},
   "outputs": [],
   "source": [
    "import pandas as pd\n",
    "import numpy as np"
   ]
  },
  {
   "cell_type": "code",
   "execution_count": 41,
   "id": "8b51c319-fc75-4746-80ff-f8518f2d0b6b",
   "metadata": {},
   "outputs": [
    {
     "data": {
      "text/html": [
       "<div>\n",
       "<style scoped>\n",
       "    .dataframe tbody tr th:only-of-type {\n",
       "        vertical-align: middle;\n",
       "    }\n",
       "\n",
       "    .dataframe tbody tr th {\n",
       "        vertical-align: top;\n",
       "    }\n",
       "\n",
       "    .dataframe thead th {\n",
       "        text-align: right;\n",
       "    }\n",
       "</style>\n",
       "<table border=\"1\" class=\"dataframe\">\n",
       "  <thead>\n",
       "    <tr style=\"text-align: right;\">\n",
       "      <th></th>\n",
       "      <th>151603712</th>\n",
       "      <th>The Elder Scrolls V Skyrim</th>\n",
       "      <th>purchase</th>\n",
       "      <th>1.0</th>\n",
       "      <th>0</th>\n",
       "    </tr>\n",
       "  </thead>\n",
       "  <tbody>\n",
       "    <tr>\n",
       "      <th>0</th>\n",
       "      <td>151603712</td>\n",
       "      <td>The Elder Scrolls V Skyrim</td>\n",
       "      <td>play</td>\n",
       "      <td>273.0</td>\n",
       "      <td>0</td>\n",
       "    </tr>\n",
       "    <tr>\n",
       "      <th>1</th>\n",
       "      <td>151603712</td>\n",
       "      <td>Fallout 4</td>\n",
       "      <td>purchase</td>\n",
       "      <td>1.0</td>\n",
       "      <td>0</td>\n",
       "    </tr>\n",
       "    <tr>\n",
       "      <th>2</th>\n",
       "      <td>151603712</td>\n",
       "      <td>Fallout 4</td>\n",
       "      <td>play</td>\n",
       "      <td>87.0</td>\n",
       "      <td>0</td>\n",
       "    </tr>\n",
       "    <tr>\n",
       "      <th>3</th>\n",
       "      <td>151603712</td>\n",
       "      <td>Spore</td>\n",
       "      <td>purchase</td>\n",
       "      <td>1.0</td>\n",
       "      <td>0</td>\n",
       "    </tr>\n",
       "    <tr>\n",
       "      <th>4</th>\n",
       "      <td>151603712</td>\n",
       "      <td>Spore</td>\n",
       "      <td>play</td>\n",
       "      <td>14.9</td>\n",
       "      <td>0</td>\n",
       "    </tr>\n",
       "  </tbody>\n",
       "</table>\n",
       "</div>"
      ],
      "text/plain": [
       "   151603712  The Elder Scrolls V Skyrim  purchase    1.0  0\n",
       "0  151603712  The Elder Scrolls V Skyrim      play  273.0  0\n",
       "1  151603712                   Fallout 4  purchase    1.0  0\n",
       "2  151603712                   Fallout 4      play   87.0  0\n",
       "3  151603712                       Spore  purchase    1.0  0\n",
       "4  151603712                       Spore      play   14.9  0"
      ]
     },
     "execution_count": 41,
     "metadata": {},
     "output_type": "execute_result"
    }
   ],
   "source": [
    "#https://www.kaggle.com/datasets/tamber/steam-video-games\n",
    "df_users = pd.read_csv(\"steam-200k.csv\")\n",
    "df_users.head()"
   ]
  },
  {
   "cell_type": "code",
   "execution_count": 42,
   "id": "572bfa66-720c-43e6-8310-500f3be5a6cd",
   "metadata": {},
   "outputs": [
    {
     "data": {
      "text/html": [
       "<div>\n",
       "<style scoped>\n",
       "    .dataframe tbody tr th:only-of-type {\n",
       "        vertical-align: middle;\n",
       "    }\n",
       "\n",
       "    .dataframe tbody tr th {\n",
       "        vertical-align: top;\n",
       "    }\n",
       "\n",
       "    .dataframe thead th {\n",
       "        text-align: right;\n",
       "    }\n",
       "</style>\n",
       "<table border=\"1\" class=\"dataframe\">\n",
       "  <thead>\n",
       "    <tr style=\"text-align: right;\">\n",
       "      <th></th>\n",
       "      <th>id</th>\n",
       "      <th>name</th>\n",
       "    </tr>\n",
       "  </thead>\n",
       "  <tbody>\n",
       "    <tr>\n",
       "      <th>0</th>\n",
       "      <td>151603712</td>\n",
       "      <td>The Elder Scrolls V Skyrim</td>\n",
       "    </tr>\n",
       "    <tr>\n",
       "      <th>2</th>\n",
       "      <td>151603712</td>\n",
       "      <td>Fallout 4</td>\n",
       "    </tr>\n",
       "    <tr>\n",
       "      <th>4</th>\n",
       "      <td>151603712</td>\n",
       "      <td>Spore</td>\n",
       "    </tr>\n",
       "    <tr>\n",
       "      <th>6</th>\n",
       "      <td>151603712</td>\n",
       "      <td>Fallout New Vegas</td>\n",
       "    </tr>\n",
       "    <tr>\n",
       "      <th>8</th>\n",
       "      <td>151603712</td>\n",
       "      <td>Left 4 Dead 2</td>\n",
       "    </tr>\n",
       "  </tbody>\n",
       "</table>\n",
       "</div>"
      ],
      "text/plain": [
       "          id                        name\n",
       "0  151603712  The Elder Scrolls V Skyrim\n",
       "2  151603712                   Fallout 4\n",
       "4  151603712                       Spore\n",
       "6  151603712           Fallout New Vegas\n",
       "8  151603712               Left 4 Dead 2"
      ]
     },
     "execution_count": 42,
     "metadata": {},
     "output_type": "execute_result"
    }
   ],
   "source": [
    "df_users = df_users.rename(columns={'151603712': 'id', 'The Elder Scrolls V Skyrim': 'name'})\n",
    "# only games played\n",
    "df_users = df_users[~df_users['purchase'].isin(['purchase'])]\n",
    "# remove last three columns\n",
    "df_users = df_users.drop('purchase', axis=1)\n",
    "df_users = df_users.drop('1.0', axis=1)\n",
    "df_users = df_users.drop('0', axis=1)\n",
    "df_users.head()"
   ]
  },
  {
   "cell_type": "code",
   "execution_count": 49,
   "id": "e0af96d8-6b83-4738-b9a2-4f2857fdbd9e",
   "metadata": {},
   "outputs": [],
   "source": [
    "users_new = dict()\n",
    "count_games = dict()"
   ]
  },
  {
   "cell_type": "code",
   "execution_count": 50,
   "id": "1330d7bc-7aec-4caf-bee2-c7dee39f8b1b",
   "metadata": {
    "scrolled": true
   },
   "outputs": [
    {
     "data": {
      "text/html": [
       "<div>\n",
       "<style scoped>\n",
       "    .dataframe tbody tr th:only-of-type {\n",
       "        vertical-align: middle;\n",
       "    }\n",
       "\n",
       "    .dataframe tbody tr th {\n",
       "        vertical-align: top;\n",
       "    }\n",
       "\n",
       "    .dataframe thead th {\n",
       "        text-align: right;\n",
       "    }\n",
       "</style>\n",
       "<table border=\"1\" class=\"dataframe\">\n",
       "  <thead>\n",
       "    <tr style=\"text-align: right;\">\n",
       "      <th></th>\n",
       "      <th>0</th>\n",
       "    </tr>\n",
       "  </thead>\n",
       "  <tbody>\n",
       "    <tr>\n",
       "      <th>151603712</th>\n",
       "      <td>The Elder Scrolls V Skyrim@@@Fallout 4@@@Spore...</td>\n",
       "    </tr>\n",
       "    <tr>\n",
       "      <th>59945701</th>\n",
       "      <td>Ultra Street Fighter IV@@@FINAL FANTASY XIII@@...</td>\n",
       "    </tr>\n",
       "    <tr>\n",
       "      <th>53875128</th>\n",
       "      <td>Grand Theft Auto V@@@Insurgency@@@Left 4 Dead ...</td>\n",
       "    </tr>\n",
       "    <tr>\n",
       "      <th>26122540</th>\n",
       "      <td>Call of Duty Modern Warfare 2 - Multiplayer@@@...</td>\n",
       "    </tr>\n",
       "    <tr>\n",
       "      <th>126340495</th>\n",
       "      <td>Dota 2@@@Counter-Strike Global Offensive@@@Cou...</td>\n",
       "    </tr>\n",
       "  </tbody>\n",
       "</table>\n",
       "</div>"
      ],
      "text/plain": [
       "                                                           0\n",
       "151603712  The Elder Scrolls V Skyrim@@@Fallout 4@@@Spore...\n",
       "59945701   Ultra Street Fighter IV@@@FINAL FANTASY XIII@@...\n",
       "53875128   Grand Theft Auto V@@@Insurgency@@@Left 4 Dead ...\n",
       "26122540   Call of Duty Modern Warfare 2 - Multiplayer@@@...\n",
       "126340495  Dota 2@@@Counter-Strike Global Offensive@@@Cou..."
      ]
     },
     "execution_count": 50,
     "metadata": {},
     "output_type": "execute_result"
    }
   ],
   "source": [
    "set_of_ids = set()\n",
    "for i, row in df_users.iterrows():\n",
    "    id = row['id']\n",
    "    name = row['name']\n",
    "    if id in set_of_ids:\n",
    "        users_new[id] = users_new[id] + \"@@@\" + name\n",
    "        count_games[id] = count_games[id] + 1\n",
    "    else:\n",
    "        set_of_ids.add(id)\n",
    "        users_new[id] = name\n",
    "        count_games[id] = 1\n",
    "\n",
    "del_users = []\n",
    "for user in users_new:\n",
    "    if count_games[user] < 5:\n",
    "        del_users.append(user)\n",
    "\n",
    "for user in del_users:\n",
    "    del users_new[user]\n",
    "\n",
    "df = pd.DataFrame.from_dict(users_new, orient='index')\n",
    "df.head()"
   ]
  },
  {
   "cell_type": "code",
   "execution_count": null,
   "id": "65289d64-b8a6-47ac-8a50-485df1b1eba2",
   "metadata": {},
   "outputs": [],
   "source": []
  },
  {
   "cell_type": "code",
   "execution_count": 51,
   "id": "e8fae811-43f5-4ef3-9b0c-e89a8d0a0155",
   "metadata": {},
   "outputs": [],
   "source": [
    "df.to_csv('user_games.csv')"
   ]
  },
  {
   "cell_type": "code",
   "execution_count": null,
   "id": "50cb286f-fb8b-45c8-a4d9-e82a293fb99d",
   "metadata": {},
   "outputs": [],
   "source": []
  }
 ],
 "metadata": {
  "kernelspec": {
   "display_name": "Python 3 (ipykernel)",
   "language": "python",
   "name": "python3"
  },
  "language_info": {
   "codemirror_mode": {
    "name": "ipython",
    "version": 3
   },
   "file_extension": ".py",
   "mimetype": "text/x-python",
   "name": "python",
   "nbconvert_exporter": "python",
   "pygments_lexer": "ipython3",
   "version": "3.11.5"
  }
 },
 "nbformat": 4,
 "nbformat_minor": 5
}
