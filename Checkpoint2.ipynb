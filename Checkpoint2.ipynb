{
 "cells": [
  {
   "cell_type": "code",
   "execution_count": 5,
   "id": "d920fdba-5438-46c4-ba66-f5941cc2722a",
   "metadata": {},
   "outputs": [],
   "source": [
    "import pandas as pd\n",
    "import numpy as np\n",
    "from sklearn.model_selection import train_test_split\n",
    "from sklearn.preprocessing import OneHotEncoder, StandardScaler\n",
    "from sklearn.feature_extraction.text import TfidfVectorizer\n",
    "from sklearn.neighbors import NearestNeighbors"
   ]
  },
  {
   "cell_type": "code",
   "execution_count": 60,
   "id": "a28f16bd-9b13-429f-b94b-a3f1be082ddb",
   "metadata": {},
   "outputs": [],
   "source": [
    "def recommend_similar_games(input_games_str,data_frame, num_recs):\n",
    "    \n",
    "    # Convert the comma-separated string to a list of input games\n",
    "    input_games = [game.strip() for game in input_games_str.split('@@@')]\n",
    "    #st.write(\"this is the data input \",input_games)\n",
    "    games =data_frame\n",
    "    # Review Ratio is the Number of Positive Reviews made on steam of a particular game divided by the total number of steam reviews for that game\n",
    "    games[\"Review Ratio\"]=(games[\"Positive\"]/(games[\"Positive\"]+games[\"Negative\"]))\n",
    "    games[\"Review Sum\"]=(games[\"Positive\"]+games[\"Negative\"])\n",
    "\n",
    "    # steam_total_reviews is the total number of reviews made for all games on steam\n",
    "    steam_total_reviews=sum(games['Review Sum'])\n",
    "    steam_total_reviews\n",
    "\n",
    "    # Combined Score is the # of positive reviews for a game divided by the total number of reviews for all games on steam\n",
    "    games['Combined Score'] = games['Review Ratio'] * (games['Review Sum']/steam_total_reviews)\n",
    "    \n",
    "    # Preprocess the data\n",
    "    data_frame['Genres'] = data_frame['Genres'].fillna('')\n",
    "    data_frame['Combined Score'] = data_frame['Combined Score'].fillna(0)\n",
    "    data_frame['Tags'] = data_frame['Tags'].fillna('')  # Add this line to handle missing Tags\n",
    "    data_frame['Features'] = data_frame['Genres'] + ' ' + data_frame['Combined Score'].astype(str) + ' ' + data_frame['Tags']\n",
    "\n",
    "    # Create a TF-IDF vectorizer for the combined features\n",
    "    tfidf_vectorizer_combined = TfidfVectorizer()\n",
    "    tfidf_matrix_combined = tfidf_vectorizer_combined.fit_transform(data_frame['Features'])\n",
    "\n",
    "    # Build a nearest neighbors model for combined features\n",
    "    knn_combined = NearestNeighbors(n_neighbors=30, metric='cosine')  # Increase n_neighbors to allow for more recommendations\n",
    "    knn_combined.fit(tfidf_matrix_combined)\n",
    "\n",
    "    recommended_games = set()\n",
    "\n",
    "    for input_game_name in input_games:\n",
    "        # Find the index of the given game in the DataFrame\n",
    "        game_index = data_frame[data_frame['Name'] == input_game_name].index[0]\n",
    "\n",
    "        # Use the nearest neighbors model to find the most similar games based on combined features\n",
    "        distances_combined, indices_combined = knn_combined.kneighbors(tfidf_matrix_combined[game_index])\n",
    "\n",
    "        # Get the 6 most similar games based on combined features\n",
    "        similar_game_indices_combined = indices_combined[0]\n",
    "        similar_games_combined = [data_frame.loc[i] for i in similar_game_indices_combined]\n",
    "\n",
    "        # Sort the recommendations by the \"Combined Score\" in descending order\n",
    "        similar_games_combined = sorted(similar_games_combined, key=lambda x: x['Combined Score'], reverse=True)\n",
    "\n",
    "        # Filter out the input games and any duplicates\n",
    "        unique_recommendations = [game for game in similar_games_combined if\n",
    "                                game['Name'] != input_game_name and game['Name'] not in input_games and game['Name'] not in recommended_games]\n",
    "\n",
    "        # Add unique game names to the set\n",
    "        #recommended_games.update(game['Name'] for game in unique_recommendations[:num_recs])\n",
    "        \n",
    "        for i in range(0, num_recs):\n",
    "            rec_game = unique_recommendations[i]['Name']\n",
    "            df_score = data_frame.loc[data_frame['Name'] == rec_game] \n",
    "            score = df_score['Combined Score'].iloc[0]\n",
    "            res = (input_game_name, rec_game, score)\n",
    "            \n",
    "            recommended_games.add((input_game_name, rec_game, score))\n",
    "            \n",
    "\n",
    "    return recommended_games"
   ]
  },
  {
   "cell_type": "code",
   "execution_count": 61,
   "id": "d27c2c67-469f-4aa0-a620-7630c83c03c5",
   "metadata": {},
   "outputs": [],
   "source": [
    "games = pd.read_csv(\"games.csv\")"
   ]
  },
  {
   "cell_type": "code",
   "execution_count": 64,
   "id": "18cfd65d-b6e8-432a-987a-b74266e813d9",
   "metadata": {},
   "outputs": [
    {
     "name": "stdout",
     "output_type": "stream",
     "text": [
      "('Galactic Bowling', 'Fastlane Bowling', 1.2111440317553246e-08)\n",
      "('Galactic Bowling', 'HyperBowl', 4.844576127021298e-07)\n",
      "('Galactic Bowling', 'VR Mini Bowling 2', 3.633432095265974e-08)\n",
      "('Christmas Santa Troubles', 'Cosmic Kites', 7.266864190531946e-08)\n",
      "('Christmas Santa Troubles', 'DUCK CASINO: BULLET', 7.266864190531946e-08)\n",
      "('Galactic Bowling', 'Knockout Bowling VR', 0.0)\n",
      "('Christmas Santa Troubles', 'Hot Runback - VR Runner', 7.266864190531946e-08)\n",
      "('Christmas Santa Troubles', 'Master Pyrox Wizard Smackdown', 7.266864190531946e-08)\n",
      "(\"Don't Drop the Bass\", 'モールス信号で愛を伝えよ。', 0.0)\n",
      "('Galactic Bowling', 'Pixel Puzzles Mosaics', 7.266864190531948e-07)\n",
      "(\"Don't Drop the Bass\", 'Cosmic Kites', 7.266864190531946e-08)\n",
      "(\"Don't Drop the Bass\", 'Master Pyrox Wizard Smackdown', 7.266864190531946e-08)\n",
      "('Galactic Bowling', 'Lift It', 7.266864190531948e-07)\n",
      "(\"Don't Drop the Bass\", 'Bomb!Bomb!Carnival!!', 0.0)\n",
      "(\"Don't Drop the Bass\", 'DUCK CASINO: BULLET', 7.266864190531946e-08)\n",
      "('Christmas Santa Troubles', 'Galactic Orbital Death Sport', 7.266864190531946e-08)\n",
      "(\"Don't Drop the Bass\", 'Hot Runback - VR Runner', 7.266864190531946e-08)\n",
      "('Christmas Santa Troubles', 'Kartofank VR', 7.266864190531946e-08)\n"
     ]
    }
   ],
   "source": [
    "# Example usage with three input games (up to 5)\n",
    "input_games_str = \"Galactic Bowling@@@Don't Drop the Bass@@@Christmas Santa Troubles\"\n",
    "recommended_games = recommend_similar_games(input_games_str, games, 6)\n",
    "\n",
    "for item in recommended_games:\n",
    "    print(item)"
   ]
  }
 ],
 "metadata": {
  "kernelspec": {
   "display_name": "Python 3 (ipykernel)",
   "language": "python",
   "name": "python3"
  },
  "language_info": {
   "codemirror_mode": {
    "name": "ipython",
    "version": 3
   },
   "file_extension": ".py",
   "mimetype": "text/x-python",
   "name": "python",
   "nbconvert_exporter": "python",
   "pygments_lexer": "ipython3",
   "version": "3.11.5"
  }
 },
 "nbformat": 4,
 "nbformat_minor": 5
}
